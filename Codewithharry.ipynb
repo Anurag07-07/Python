{
 "cells": [
  {
   "cell_type": "code",
   "execution_count": 11,
   "id": "3a5776d6-a440-42ac-b1d8-e0481069c07a",
   "metadata": {},
   "outputs": [
    {
     "name": "stdout",
     "output_type": "stream",
     "text": [
      "Hello World\n"
     ]
    }
   ],
   "source": [
    "print(\"Hello World\")"
   ]
  },
  {
   "cell_type": "code",
   "execution_count": 12,
   "id": "8bdd317d-17a0-4ffc-9ec2-ef32277a6750",
   "metadata": {},
   "outputs": [
    {
     "name": "stdout",
     "output_type": "stream",
     "text": [
      "5\n"
     ]
    }
   ],
   "source": [
    "print(5)"
   ]
  },
  {
   "cell_type": "code",
   "execution_count": 13,
   "id": "10fbda39-e87b-44d4-b8cd-db7994bc6375",
   "metadata": {},
   "outputs": [
    {
     "name": "stdout",
     "output_type": "stream",
     "text": [
      "Anurag\n"
     ]
    }
   ],
   "source": [
    "print(\"Anurag\")"
   ]
  },
  {
   "cell_type": "code",
   "execution_count": 14,
   "id": "4e03e587-d588-46ec-9f21-bc55bab620ca",
   "metadata": {},
   "outputs": [
    {
     "name": "stdout",
     "output_type": "stream",
     "text": [
      "Hey I am a Good Boy\n"
     ]
    }
   ],
   "source": [
    "print(\"Hey I am a Good Boy\")"
   ]
  },
  {
   "cell_type": "code",
   "execution_count": 15,
   "id": "151bfc6c-b136-400b-963b-9db00dec94bd",
   "metadata": {},
   "outputs": [
    {
     "name": "stdout",
     "output_type": "stream",
     "text": [
      "Artificial Intelligence and\n",
      " Machine Learning\n"
     ]
    }
   ],
   "source": [
    "print(\"Artificial Intelligence and\\n Machine Learning\");"
   ]
  },
  {
   "cell_type": "code",
   "execution_count": 16,
   "id": "cf90fe79-d8f3-4f84-8146-43d918cbd151",
   "metadata": {},
   "outputs": [
    {
     "name": "stdout",
     "output_type": "stream",
     "text": [
      "Artificial Intelligence and\n",
      " Machine Learning\n"
     ]
    }
   ],
   "source": [
    "#This is Comment\n",
    "print(\"Artificial Intelligence and\\n Machine Learning\");"
   ]
  },
  {
   "cell_type": "code",
   "execution_count": 17,
   "id": "2a8a45df-c53a-4837-b6f4-4449e6a6b916",
   "metadata": {},
   "outputs": [
    {
     "name": "stdout",
     "output_type": "stream",
     "text": [
      "Triple Single and Double Quote for Comment\n"
     ]
    }
   ],
   "source": [
    "'''\n",
    "Hello Buddy\n",
    "'''\n",
    "print(\"Triple Single and Double Quote for Comment\")"
   ]
  },
  {
   "cell_type": "code",
   "execution_count": 18,
   "id": "66f88b72-fa7e-4638-9fab-8ff1c50dbb2c",
   "metadata": {},
   "outputs": [
    {
     "name": "stdout",
     "output_type": "stream",
     "text": [
      "Triple Single and \"Double\" Quote for Comment\n"
     ]
    }
   ],
   "source": [
    "'''\n",
    "Hello Buddy\n",
    "'''\n",
    "print(\"Triple Single and \\\"Double\\\" Quote for Comment\")"
   ]
  },
  {
   "cell_type": "code",
   "execution_count": 19,
   "id": "81a4cf1a-47b8-4899-9652-58d595fdca8c",
   "metadata": {},
   "outputs": [
    {
     "name": "stdout",
     "output_type": "stream",
     "text": [
      "Failure is not an option. It comes bundled with your Microsoft product.\n"
     ]
    }
   ],
   "source": [
    "import pyjokes\n",
    "\n",
    "joke = pyjokes.get_joke()\n",
    "print(joke)"
   ]
  },
  {
   "cell_type": "code",
   "execution_count": 20,
   "id": "b5e5a57c-faff-4848-9169-587584a25993",
   "metadata": {},
   "outputs": [
    {
     "ename": "SyntaxError",
     "evalue": "invalid syntax (3536453929.py, line 1)",
     "output_type": "error",
     "traceback": [
      "\u001b[1;36m  Cell \u001b[1;32mIn[20], line 1\u001b[1;36m\u001b[0m\n\u001b[1;33m    pip3 install pyjokes\u001b[0m\n\u001b[1;37m         ^\u001b[0m\n\u001b[1;31mSyntaxError\u001b[0m\u001b[1;31m:\u001b[0m invalid syntax\n"
     ]
    }
   ],
   "source": [
    "pip3 install pyjokes"
   ]
  },
  {
   "cell_type": "code",
   "execution_count": 3,
   "id": "b7d6c6a9-97e3-4303-8dd4-f3dcf9849f2a",
   "metadata": {},
   "outputs": [
    {
     "ename": "ModuleNotFoundError",
     "evalue": "No module named 'pyjokes'",
     "output_type": "error",
     "traceback": [
      "\u001b[1;31m---------------------------------------------------------------------------\u001b[0m",
      "\u001b[1;31mModuleNotFoundError\u001b[0m                       Traceback (most recent call last)",
      "Cell \u001b[1;32mIn[3], line 1\u001b[0m\n\u001b[1;32m----> 1\u001b[0m \u001b[38;5;28;01mimport\u001b[39;00m \u001b[38;5;21;01mpyjokes\u001b[39;00m\n\u001b[0;32m      3\u001b[0m joke \u001b[38;5;241m=\u001b[39m pyjokes\u001b[38;5;241m.\u001b[39mget_joke()\n\u001b[0;32m      4\u001b[0m \u001b[38;5;28mprint\u001b[39m(joke)\n",
      "\u001b[1;31mModuleNotFoundError\u001b[0m: No module named 'pyjokes'"
     ]
    }
   ],
   "source": [
    "import pyjokes\n",
    "\n",
    "joke = pyjokes.get_joke()\n",
    "print(joke)"
   ]
  },
  {
   "cell_type": "code",
   "execution_count": 4,
   "id": "553d8fff-2cc3-40ae-8147-3e9ddb264e91",
   "metadata": {},
   "outputs": [
    {
     "name": "stdout",
     "output_type": "stream",
     "text": [
      "Collecting pyjokes\n",
      "  Using cached pyjokes-0.8.3-py3-none-any.whl.metadata (3.4 kB)\n",
      "Using cached pyjokes-0.8.3-py3-none-any.whl (47 kB)\n",
      "Installing collected packages: pyjokes\n",
      "Successfully installed pyjokes-0.8.3\n",
      "Note: you may need to restart the kernel to use updated packages.\n"
     ]
    }
   ],
   "source": [
    "pip install pyjokes"
   ]
  },
  {
   "cell_type": "code",
   "execution_count": 5,
   "id": "d3bed8f2-41ee-46d7-88c3-470671f5c496",
   "metadata": {},
   "outputs": [
    {
     "name": "stdout",
     "output_type": "stream",
     "text": [
      "If at first you don't succeed, call it version 1.0.\n"
     ]
    }
   ],
   "source": [
    "import pyjokes\n",
    "\n",
    "joke = pyjokes.get_joke()\n",
    "print(joke)"
   ]
  },
  {
   "cell_type": "code",
   "execution_count": 6,
   "id": "66eb27f4-91a4-4457-bace-8f63dc455e67",
   "metadata": {},
   "outputs": [
    {
     "name": "stdout",
     "output_type": "stream",
     "text": [
      "My favourite computer based band is the Black IPs.\n"
     ]
    }
   ],
   "source": [
    "import pyjokes\n",
    "\n",
    "joke = pyjokes.get_joke()\n",
    "print(joke)"
   ]
  },
  {
   "cell_type": "code",
   "execution_count": 7,
   "id": "042828dd-7340-4f3f-8286-e6b278502ec6",
   "metadata": {},
   "outputs": [
    {
     "name": "stdout",
     "output_type": "stream",
     "text": [
      "Requirement already satisfied: flask in c:\\users\\anura\\anaconda3\\lib\\site-packages (2.2.5)\n",
      "Requirement already satisfied: Werkzeug>=2.2.2 in c:\\users\\anura\\anaconda3\\lib\\site-packages (from flask) (2.2.3)\n",
      "Requirement already satisfied: Jinja2>=3.0 in c:\\users\\anura\\anaconda3\\lib\\site-packages (from flask) (3.1.3)\n",
      "Requirement already satisfied: itsdangerous>=2.0 in c:\\users\\anura\\anaconda3\\lib\\site-packages (from flask) (2.0.1)\n",
      "Requirement already satisfied: click>=8.0 in c:\\users\\anura\\anaconda3\\lib\\site-packages (from flask) (8.1.7)\n",
      "Requirement already satisfied: colorama in c:\\users\\anura\\anaconda3\\lib\\site-packages (from click>=8.0->flask) (0.4.6)\n",
      "Requirement already satisfied: MarkupSafe>=2.0 in c:\\users\\anura\\anaconda3\\lib\\site-packages (from Jinja2>=3.0->flask) (2.1.3)\n",
      "Note: you may need to restart the kernel to use updated packages.\n"
     ]
    }
   ],
   "source": [
    "pip install flask"
   ]
  },
  {
   "cell_type": "code",
   "execution_count": 8,
   "id": "fa994a80-121e-420f-928f-1360f5f1e6e4",
   "metadata": {},
   "outputs": [
    {
     "data": {
      "text/plain": [
       "24"
      ]
     },
     "execution_count": 8,
     "metadata": {},
     "output_type": "execute_result"
    }
   ],
   "source": [
    "4*6"
   ]
  },
  {
   "cell_type": "code",
   "execution_count": 9,
   "id": "9a17fcaa-fb8c-4823-a8cd-51142ea33305",
   "metadata": {},
   "outputs": [
    {
     "data": {
      "text/plain": [
       "3608"
      ]
     },
     "execution_count": 9,
     "metadata": {},
     "output_type": "execute_result"
    }
   ],
   "source": [
    "46*89-486"
   ]
  },
  {
   "cell_type": "code",
   "execution_count": 10,
   "id": "32a2e8e3-a3fb-43a5-8ae9-423e599db18b",
   "metadata": {},
   "outputs": [
    {
     "name": "stdout",
     "output_type": "stream",
     "text": [
      "You don't have to know how the computer works, just how to work the computer.\n"
     ]
    }
   ],
   "source": [
    "import pyjokes\n",
    "#print jokes\n",
    "joke = pyjokes.get_joke()\n",
    "print(joke)"
   ]
  },
  {
   "cell_type": "code",
   "execution_count": null,
   "id": "9f33cf77-c668-4a03-861a-7a9326be8073",
   "metadata": {},
   "outputs": [],
   "source": []
  },
  {
   "cell_type": "code",
   "execution_count": 13,
   "id": "5da23510-74b2-44ed-8605-8842956c134e",
   "metadata": {},
   "outputs": [
    {
     "name": "stdout",
     "output_type": "stream",
     "text": [
      "Twinkle Twinkle Little Star\n"
     ]
    }
   ],
   "source": [
    "print(\"Twinkle Twinkle Little Star\")"
   ]
  },
  {
   "cell_type": "code",
   "execution_count": 14,
   "id": "5e9ad99c-dbe0-4806-bc5c-1ae7848e81b1",
   "metadata": {},
   "outputs": [
    {
     "name": "stdout",
     "output_type": "stream",
     "text": [
      "Twinkle, twinkle, little star,\n",
      "How I wonder what you are.\n",
      "Up above the world so high,\n",
      "Like a diamond in the sky.\n",
      "\n",
      "When the blazing sun is gone,\n",
      "When he nothing shines upon,\n",
      "Then you show your little light,\n",
      "Twinkle, twinkle, all the night.\n"
     ]
    }
   ],
   "source": [
    "print('''Twinkle, twinkle, little star,\n",
    "How I wonder what you are.\n",
    "Up above the world so high,\n",
    "Like a diamond in the sky.\n",
    "\n",
    "When the blazing sun is gone,\n",
    "When he nothing shines upon,\n",
    "Then you show your little light,\n",
    "Twinkle, twinkle, all the night.''')"
   ]
  },
  {
   "cell_type": "code",
   "execution_count": 15,
   "id": "0f692797-c3e1-40c3-916e-80f147c2beae",
   "metadata": {},
   "outputs": [
    {
     "name": "stdout",
     "output_type": "stream",
     "text": [
      "Collecting pyttsx3\n",
      "  Downloading pyttsx3-2.98-py3-none-any.whl.metadata (3.8 kB)\n",
      "Collecting comtypes (from pyttsx3)\n",
      "  Downloading comtypes-1.4.8-py3-none-any.whl.metadata (7.1 kB)\n",
      "Collecting pypiwin32 (from pyttsx3)\n",
      "  Downloading pypiwin32-223-py3-none-any.whl.metadata (236 bytes)\n",
      "Requirement already satisfied: pywin32 in c:\\users\\anura\\anaconda3\\lib\\site-packages (from pyttsx3) (305.1)\n",
      "Downloading pyttsx3-2.98-py3-none-any.whl (34 kB)\n",
      "Downloading comtypes-1.4.8-py3-none-any.whl (229 kB)\n",
      "   ---------------------------------------- 0.0/229.4 kB ? eta -:--:--\n",
      "   ---------------------------------------  225.3/229.4 kB 4.6 MB/s eta 0:00:01\n",
      "   ---------------------------------------- 229.4/229.4 kB 4.7 MB/s eta 0:00:00\n",
      "Downloading pypiwin32-223-py3-none-any.whl (1.7 kB)\n",
      "Installing collected packages: pypiwin32, comtypes, pyttsx3\n",
      "Successfully installed comtypes-1.4.8 pypiwin32-223 pyttsx3-2.98\n",
      "Note: you may need to restart the kernel to use updated packages.\n"
     ]
    }
   ],
   "source": [
    "pip install pyttsx3"
   ]
  },
  {
   "cell_type": "code",
   "execution_count": 26,
   "id": "d27d2e94-2fa0-451d-ae02-f2ef585c48de",
   "metadata": {},
   "outputs": [],
   "source": [
    "import pyttsx3\n",
    "engine = pyttsx3.init()\n",
    "engine.say(\"Hii Myself Bumba Buddy\")\n",
    "engine.runAndWait()"
   ]
  },
  {
   "cell_type": "code",
   "execution_count": null,
   "id": "cb890c18-d555-429c-990b-94c69ad64af7",
   "metadata": {},
   "outputs": [],
   "source": []
  },
  {
   "cell_type": "code",
   "execution_count": 25,
   "id": "b30e7c1b-1f7a-432c-a202-2f7434f1e1d8",
   "metadata": {},
   "outputs": [],
   "source": [
    "import pyttsx3\n",
    "engine = pyttsx3.init()\n",
    "engine.say(\"Hey Whatsupp Buddy\")\n",
    "engine.runAndWait()"
   ]
  },
  {
   "cell_type": "code",
   "execution_count": 27,
   "id": "751fce1e-5677-4f60-9d6e-095bfd4b6e5f",
   "metadata": {},
   "outputs": [
    {
     "name": "stdout",
     "output_type": "stream",
     "text": [
      "$Recycle.Bin\n",
      "$WinREAgent\n",
      "Documents and Settings\n",
      "DumpStack.log.tmp\n",
      "Games\n",
      "hiberfil.sys\n",
      "hp\n",
      "MinGW\n",
      "OneDriveTemp\n",
      "pagefile.sys\n",
      "PerfLogs\n",
      "Program Files\n",
      "Program Files (x86)\n",
      "ProgramData\n",
      "Recovery\n",
      "SavedInputs-00-09-15__12-06-2024.cmsi\n",
      "SavedInputs-00-13-50__01-10-2024.cmsi\n",
      "SavedInputs-00-15-36__01-10-2024.cmsi\n",
      "SavedInputs-00-40-35__10-06-2024.cmsi\n",
      "SavedInputs-00-52-37__25-05-2024.cmsi\n",
      "SavedInputs-01-04-42__11-06-2024.cmsi\n",
      "SavedInputs-01-24-15__05-07-2024.cmsi\n",
      "SavedInputs-01-51-11__29-08-2024.cmsi\n",
      "SavedInputs-01-57-50__04-10-2024.cmsi\n",
      "SavedInputs-02-45-32__05-10-2024.cmsi\n",
      "SavedInputs-02-48-06__04-10-2024.cmsi\n",
      "SavedInputs-03-25-59__06-07-2024.cmsi\n",
      "SavedInputs-04-03-57__03-10-2024.cmsi\n",
      "SavedInputs-04-35-36__26-05-2024.cmsi\n",
      "SavedInputs-05-10-01__29-08-2024.cmsi\n",
      "SavedInputs-05-55-47__28-08-2024.cmsi\n",
      "SavedInputs-06-10-48__30-09-2024.cmsi\n",
      "SavedInputs-06-11-07__30-09-2024.cmsi\n",
      "SavedInputs-06-53-29__30-09-2024.cmsi\n",
      "SavedInputs-14-24-05__24-05-2024.cmsi\n",
      "SavedInputs-14-28-35__24-05-2024.cmsi\n",
      "SavedInputs-14-34-09__18-05-2024.cmsi\n",
      "SavedInputs-15-20-24__18-05-2024.cmsi\n",
      "SavedInputs-15-29-33__18-05-2024.cmsi\n",
      "SavedInputs-15-35-24__24-05-2024.cmsi\n",
      "SavedInputs-15-43-03__18-05-2024.cmsi\n",
      "SavedInputs-17-04-22__01-10-2024.cmsi\n",
      "SavedInputs-17-06-39__01-10-2024.cmsi\n",
      "SavedInputs-17-06-46__01-10-2024.cmsi\n",
      "SavedInputs-17-07-24__01-10-2024.cmsi\n",
      "SavedInputs-17-09-37__30-09-2024.cmsi\n",
      "SavedInputs-18-17-36__18-05-2024.cmsi\n",
      "SavedInputs-18-32-31__10-06-2024.cmsi\n",
      "SavedInputs-18-48-43__10-06-2024.cmsi\n",
      "SavedInputs-18-48-53__10-06-2024.cmsi\n",
      "SavedInputs-19-46-36__18-05-2024.cmsi\n",
      "SavedInputs-20-45-40__04-07-2024.cmsi\n",
      "SavedInputs-21-04-16__14-06-2024.cmsi\n",
      "SavedInputs-21-29-27__18-05-2024.cmsi\n",
      "SavedInputs-21-29-38__04-07-2024.cmsi\n",
      "SavedInputs-21-49-02__13-06-2024.cmsi\n",
      "SavedInputs-22-01-19__11-06-2024.cmsi\n",
      "SavedInputs-22-45-14__11-07-2024.cmsi\n",
      "SavedInputs-23-31-12__18-05-2024.cmsi\n",
      "SavedInputs-23-47-59__13-05-2024.cmsi\n",
      "SavedInputs-23-53-16__01-10-2024.cmsi\n",
      "swapfile.sys\n",
      "SWSetup\n",
      "System Volume Information\n",
      "System.sav\n",
      "Users\n",
      "Windows\n"
     ]
    }
   ],
   "source": [
    "import os\n",
    "\n",
    "# Specify the directory path\n",
    "path = '/'\n",
    "\n",
    "# Get and print the list of files and directories in the specified path\n",
    "contents = os.listdir(path)\n",
    "for item in contents:\n",
    "    print(item)\n"
   ]
  },
  {
   "cell_type": "code",
   "execution_count": 22,
   "id": "34c99919-9c73-4a3c-a528-d19c3614bec8",
   "metadata": {},
   "outputs": [],
   "source": [
    "import pyttsx3\n",
    "engine = pyttsx3.init()\n",
    "engine.say(\"Artificial Intelligence and Machine Learning\")\n",
    "engine.runAndWait()"
   ]
  }
 ],
 "metadata": {
  "kernelspec": {
   "display_name": "Python 3",
   "language": "python",
   "name": "python3"
  },
  "language_info": {
   "codemirror_mode": {
    "name": "ipython",
    "version": 3
   },
   "file_extension": ".py",
   "mimetype": "text/x-python",
   "name": "python",
   "nbconvert_exporter": "python",
   "pygments_lexer": "ipython3",
   "version": "3.12.4"
  }
 },
 "nbformat": 4,
 "nbformat_minor": 5
}
